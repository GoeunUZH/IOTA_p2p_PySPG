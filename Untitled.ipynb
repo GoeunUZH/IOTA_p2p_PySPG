{
 "cells": [
  {
   "cell_type": "code",
   "execution_count": 2,
   "id": "64fd1468",
   "metadata": {},
   "outputs": [
    {
     "ename": "ModuleNotFoundError",
     "evalue": "No module named 'graph_tool'",
     "output_type": "error",
     "traceback": [
      "\u001b[0;31m---------------------------------------------------------------------------\u001b[0m",
      "\u001b[0;31mModuleNotFoundError\u001b[0m                       Traceback (most recent call last)",
      "Input \u001b[0;32mIn [2]\u001b[0m, in \u001b[0;36m<cell line: 1>\u001b[0;34m()\u001b[0m\n\u001b[0;32m----> 1\u001b[0m \u001b[38;5;28;01mfrom\u001b[39;00m \u001b[38;5;21;01mbetweenness_partition\u001b[39;00m \u001b[38;5;28;01mimport\u001b[39;00m get_unweighted_Partitioning\n",
      "File \u001b[0;32m~/iota_p2p/PySPG_p2p/IOTA_p2p_PySPG/betweenness_partition.py:1\u001b[0m, in \u001b[0;36m<module>\u001b[0;34m\u001b[0m\n\u001b[0;32m----> 1\u001b[0m from graph_tool.all import *\n\u001b[1;32m      2\u001b[0m import graph_tool.all as gt\n\u001b[1;32m      3\u001b[0m import os\n",
      "\u001b[0;31mModuleNotFoundError\u001b[0m: No module named 'graph_tool'"
     ]
    }
   ],
   "source": [
    "from betweenness_partition import get_unweighted_Partitioning"
   ]
  },
  {
   "cell_type": "code",
   "execution_count": null,
   "id": "45a2afa2",
   "metadata": {},
   "outputs": [],
   "source": []
  }
 ],
 "metadata": {
  "kernelspec": {
   "display_name": "Python 3 (ipykernel)",
   "language": "python",
   "name": "python3"
  },
  "language_info": {
   "codemirror_mode": {
    "name": "ipython",
    "version": 3
   },
   "file_extension": ".py",
   "mimetype": "text/x-python",
   "name": "python",
   "nbconvert_exporter": "python",
   "pygments_lexer": "ipython3",
   "version": "3.8.13"
  }
 },
 "nbformat": 4,
 "nbformat_minor": 5
}
